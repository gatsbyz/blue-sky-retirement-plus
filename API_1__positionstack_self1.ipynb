{
 "cells": [
  {
   "cell_type": "code",
   "execution_count": 3,
   "metadata": {},
   "outputs": [
    {
     "name": "stdout",
     "output_type": "stream",
     "text": [
      "{\"data\":[{\"latitude\":51.507822,\"longitude\":-0.076702,\"type\":\"venue\",\"distance\":0,\"name\":\"Tower of London\",\"number\":null,\"postal_code\":\"EC3N 4AB\",\"street\":\"Tower Hill\",\"confidence\":1,\"region\":\"Greater London\",\"region_code\":null,\"county\":null,\"locality\":\"London\",\"administrative_area\":null,\"neighbourhood\":\"Tower Hill\",\"country\":\"United Kingdom\",\"country_code\":\"GBR\",\"continent\":\"Europe\",\"label\":\"Tower of London, London, England, United Kingdom\"},{\"latitude\":51.507864,\"longitude\":-0.076551,\"type\":\"venue\",\"distance\":0.011,\"name\":\"The Ditch\",\"number\":null,\"postal_code\":null,\"street\":null,\"confidence\":0.8,\"region\":\"Greater London\",\"region_code\":null,\"county\":null,\"locality\":\"London\",\"administrative_area\":null,\"neighbourhood\":\"Tower Hill\",\"country\":\"United Kingdom\",\"country_code\":\"GBR\",\"continent\":\"Europe\",\"label\":\"The Ditch, London, England, United Kingdom\"},{\"latitude\":51.507567,\"longitude\":-0.076657,\"type\":\"venue\",\"distance\":0.029,\"name\":\"Wakefield Tower\",\"number\":null,\"postal_code\":null,\"street\":null,\"confidence\":0.8,\"region\":\"Greater London\",\"region_code\":null,\"county\":null,\"locality\":\"London\",\"administrative_area\":null,\"neighbourhood\":\"Tower Hill\",\"country\":\"United Kingdom\",\"country_code\":\"GBR\",\"continent\":\"Europe\",\"label\":\"Wakefield Tower, London, England, United Kingdom\"},{\"latitude\":51.508047,\"longitude\":-0.077018,\"type\":\"venue\",\"distance\":0.033,\"name\":\"Tower Green\",\"number\":null,\"postal_code\":null,\"street\":null,\"confidence\":0.8,\"region\":\"Greater London\",\"region_code\":null,\"county\":null,\"locality\":\"London\",\"administrative_area\":null,\"neighbourhood\":\"Tower Hill\",\"country\":\"United Kingdom\",\"country_code\":\"GBR\",\"continent\":\"Europe\",\"label\":\"Tower Green, London, England, United Kingdom\"},{\"latitude\":51.508032,\"longitude\":-0.076305,\"type\":\"venue\",\"distance\":0.036,\"name\":\"White Tower\",\"number\":null,\"postal_code\":null,\"street\":null,\"confidence\":0.8,\"region\":\"Greater London\",\"region_code\":null,\"county\":null,\"locality\":\"London\",\"administrative_area\":null,\"neighbourhood\":\"Tower Hill\",\"country\":\"United Kingdom\",\"country_code\":\"GBR\",\"continent\":\"Europe\",\"label\":\"White Tower, London, England, United Kingdom\"},{\"latitude\":51.507383,\"longitude\":-0.076957,\"type\":\"venue\",\"distance\":0.052,\"name\":\"Traitor\\u0027s Gate\",\"number\":null,\"postal_code\":null,\"street\":null,\"confidence\":0.8,\"region\":\"Greater London\",\"region_code\":null,\"county\":null,\"locality\":\"London\",\"administrative_area\":null,\"neighbourhood\":\"Tower Hill\",\"country\":\"United Kingdom\",\"country_code\":\"GBR\",\"continent\":\"Europe\",\"label\":\"Traitor\\u0027s Gate, London, England, United Kingdom\"},{\"latitude\":51.508295,\"longitude\":-0.076893,\"type\":\"venue\",\"distance\":0.054,\"name\":\"Scaffold Site\",\"number\":null,\"postal_code\":null,\"street\":null,\"confidence\":0.8,\"region\":\"Greater London\",\"region_code\":null,\"county\":null,\"locality\":\"London\",\"administrative_area\":null,\"neighbourhood\":\"Tower Hill\",\"country\":\"United Kingdom\",\"country_code\":\"GBR\",\"continent\":\"Europe\",\"label\":\"Scaffold Site, London, England, United Kingdom\"},{\"latitude\":51.507794,\"longitude\":-0.077559,\"type\":\"venue\",\"distance\":0.059,\"name\":\"Bell Tower\",\"number\":null,\"postal_code\":null,\"street\":null,\"confidence\":0.8,\"region\":\"Greater London\",\"region_code\":null,\"county\":null,\"locality\":\"London\",\"administrative_area\":null,\"neighbourhood\":\"Tower Hill\",\"country\":\"United Kingdom\",\"country_code\":\"GBR\",\"continent\":\"Europe\",\"label\":\"Bell Tower, London, England, United Kingdom\"},{\"latitude\":51.507476,\"longitude\":-0.075989,\"type\":\"venue\",\"distance\":0.063,\"name\":\"Ravens\",\"number\":null,\"postal_code\":null,\"street\":null,\"confidence\":0.8,\"region\":\"Greater London\",\"region_code\":null,\"county\":null,\"locality\":\"London\",\"administrative_area\":null,\"neighbourhood\":\"Tower Hill\",\"country\":\"United Kingdom\",\"country_code\":\"GBR\",\"continent\":\"Europe\",\"label\":\"Ravens, London, England, United Kingdom\"},{\"latitude\":51.50743,\"longitude\":-0.076014,\"type\":\"venue\",\"distance\":0.065,\"name\":\"Raven\\u0027s Cafe\",\"number\":null,\"postal_code\":\"EC3N 4AB\",\"street\":\"Tower Hill\",\"confidence\":0.8,\"region\":\"Greater London\",\"region_code\":null,\"county\":null,\"locality\":\"London\",\"administrative_area\":null,\"neighbourhood\":\"Tower Hill\",\"country\":\"United Kingdom\",\"country_code\":\"GBR\",\"continent\":\"Europe\",\"label\":\"Raven\\u0027s Cafe, London, England, United Kingdom\"}]}\n"
     ]
    }
   ],
   "source": [
    "# Python 3\n",
    "import http.client, urllib.parse\n",
    "\n",
    "conn = http.client.HTTPConnection('api.positionstack.com')\n",
    "\n",
    "params = urllib.parse.urlencode({\n",
    "    'access_key': '2f18961718a89cea8627fcc20480d31a',\n",
    "    'query': '51.507822,-0.076702',\n",
    "    })\n",
    "\n",
    "conn.request('GET', '/v1/reverse?{}'.format(params))\n",
    "\n",
    "res = conn.getresponse()\n",
    "data = res.read()\n",
    "\n",
    "print(data.decode('utf-8'))"
   ]
  }
 ],
 "metadata": {
  "interpreter": {
   "hash": "2f3fd964406406b39bacddcc4d8d927d2d545c0de72a2b7b1d3c62308b776e1c"
  },
  "kernelspec": {
   "display_name": "Python 3.7.11 ('dev')",
   "language": "python",
   "name": "python3"
  },
  "language_info": {
   "codemirror_mode": {
    "name": "ipython",
    "version": 3
   },
   "file_extension": ".py",
   "mimetype": "text/x-python",
   "name": "python",
   "nbconvert_exporter": "python",
   "pygments_lexer": "ipython3",
   "version": "3.7.11"
  },
  "orig_nbformat": 4
 },
 "nbformat": 4,
 "nbformat_minor": 2
}
